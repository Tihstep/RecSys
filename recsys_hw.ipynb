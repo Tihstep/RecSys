{
 "cells": [
  {
   "cell_type": "markdown",
   "metadata": {
    "id": "n5iKcvJfY-kK"
   },
   "source": [
    "# Подготовка к работе: импорт библиотек и данных"
   ]
  },
  {
   "cell_type": "code",
   "execution_count": 1,
   "metadata": {
    "id": "iYggkDDEWJDL"
   },
   "outputs": [],
   "source": [
    "import pandas as pd\n",
    "import numpy as np\n",
    "import matplotlib\n",
    "import matplotlib.pyplot as plt\n",
    "import seaborn as sns\n",
    "\n",
    "from catboost import CatBoostClassifier\n",
    "from sklearn.metrics import classification_report\n",
    "from tqdm import tqdm"
   ]
  },
  {
   "cell_type": "code",
   "execution_count": 2,
   "metadata": {
    "colab": {
     "base_uri": "https://localhost:8080/",
     "height": 206
    },
    "id": "BHvh7FkUYWyw",
    "outputId": "3cefb81a-0664-41d7-bce2-87e897a4d577"
   },
   "outputs": [
    {
     "data": {
      "text/html": [
       "<div>\n",
       "<style scoped>\n",
       "    .dataframe tbody tr th:only-of-type {\n",
       "        vertical-align: middle;\n",
       "    }\n",
       "\n",
       "    .dataframe tbody tr th {\n",
       "        vertical-align: top;\n",
       "    }\n",
       "\n",
       "    .dataframe thead th {\n",
       "        text-align: right;\n",
       "    }\n",
       "</style>\n",
       "<table border=\"1\" class=\"dataframe\">\n",
       "  <thead>\n",
       "    <tr style=\"text-align: right;\">\n",
       "      <th></th>\n",
       "      <th>user_id</th>\n",
       "      <th>item_id</th>\n",
       "      <th>rating</th>\n",
       "      <th>timestamp</th>\n",
       "    </tr>\n",
       "  </thead>\n",
       "  <tbody>\n",
       "    <tr>\n",
       "      <th>0</th>\n",
       "      <td>0</td>\n",
       "      <td>1505</td>\n",
       "      <td>4</td>\n",
       "      <td>0</td>\n",
       "    </tr>\n",
       "    <tr>\n",
       "      <th>1</th>\n",
       "      <td>0</td>\n",
       "      <td>3669</td>\n",
       "      <td>3</td>\n",
       "      <td>1</td>\n",
       "    </tr>\n",
       "    <tr>\n",
       "      <th>2</th>\n",
       "      <td>0</td>\n",
       "      <td>584</td>\n",
       "      <td>4</td>\n",
       "      <td>2</td>\n",
       "    </tr>\n",
       "    <tr>\n",
       "      <th>3</th>\n",
       "      <td>0</td>\n",
       "      <td>3390</td>\n",
       "      <td>3</td>\n",
       "      <td>3</td>\n",
       "    </tr>\n",
       "    <tr>\n",
       "      <th>4</th>\n",
       "      <td>0</td>\n",
       "      <td>2885</td>\n",
       "      <td>4</td>\n",
       "      <td>4</td>\n",
       "    </tr>\n",
       "  </tbody>\n",
       "</table>\n",
       "</div>"
      ],
      "text/plain": [
       "   user_id  item_id  rating  timestamp\n",
       "0        0     1505       4          0\n",
       "1        0     3669       3          1\n",
       "2        0      584       4          2\n",
       "3        0     3390       3          3\n",
       "4        0     2885       4          4"
      ]
     },
     "execution_count": 2,
     "metadata": {},
     "output_type": "execute_result"
    }
   ],
   "source": [
    "events = pd.read_csv('data/events.csv')\n",
    "events.head()"
   ]
  },
  {
   "cell_type": "code",
   "execution_count": 3,
   "metadata": {
    "colab": {
     "base_uri": "https://localhost:8080/",
     "height": 206
    },
    "id": "tpTHHEcmYnv4",
    "outputId": "f41c5ea2-374b-4102-d8e8-de14be15d66d"
   },
   "outputs": [
    {
     "data": {
      "text/html": [
       "<div>\n",
       "<style scoped>\n",
       "    .dataframe tbody tr th:only-of-type {\n",
       "        vertical-align: middle;\n",
       "    }\n",
       "\n",
       "    .dataframe tbody tr th {\n",
       "        vertical-align: top;\n",
       "    }\n",
       "\n",
       "    .dataframe thead th {\n",
       "        text-align: right;\n",
       "    }\n",
       "</style>\n",
       "<table border=\"1\" class=\"dataframe\">\n",
       "  <thead>\n",
       "    <tr style=\"text-align: right;\">\n",
       "      <th></th>\n",
       "      <th>item_id</th>\n",
       "      <th>genre_0</th>\n",
       "      <th>genre_1</th>\n",
       "      <th>genre_2</th>\n",
       "      <th>genre_3</th>\n",
       "      <th>genre_4</th>\n",
       "      <th>genre_5</th>\n",
       "      <th>genre_6</th>\n",
       "      <th>genre_7</th>\n",
       "      <th>genre_8</th>\n",
       "      <th>genre_9</th>\n",
       "      <th>genre_10</th>\n",
       "      <th>genre_11</th>\n",
       "      <th>genre_12</th>\n",
       "      <th>genre_13</th>\n",
       "      <th>genre_14</th>\n",
       "      <th>genre_15</th>\n",
       "      <th>genre_16</th>\n",
       "      <th>genre_17</th>\n",
       "    </tr>\n",
       "  </thead>\n",
       "  <tbody>\n",
       "    <tr>\n",
       "      <th>0</th>\n",
       "      <td>0</td>\n",
       "      <td>0</td>\n",
       "      <td>1</td>\n",
       "      <td>0</td>\n",
       "      <td>1</td>\n",
       "      <td>1</td>\n",
       "      <td>0</td>\n",
       "      <td>0</td>\n",
       "      <td>0</td>\n",
       "      <td>1</td>\n",
       "      <td>0</td>\n",
       "      <td>0</td>\n",
       "      <td>0</td>\n",
       "      <td>0</td>\n",
       "      <td>1</td>\n",
       "      <td>0</td>\n",
       "      <td>0</td>\n",
       "      <td>0</td>\n",
       "      <td>0</td>\n",
       "    </tr>\n",
       "    <tr>\n",
       "      <th>1</th>\n",
       "      <td>1</td>\n",
       "      <td>0</td>\n",
       "      <td>0</td>\n",
       "      <td>0</td>\n",
       "      <td>0</td>\n",
       "      <td>0</td>\n",
       "      <td>0</td>\n",
       "      <td>0</td>\n",
       "      <td>1</td>\n",
       "      <td>0</td>\n",
       "      <td>0</td>\n",
       "      <td>0</td>\n",
       "      <td>0</td>\n",
       "      <td>0</td>\n",
       "      <td>0</td>\n",
       "      <td>0</td>\n",
       "      <td>0</td>\n",
       "      <td>0</td>\n",
       "      <td>0</td>\n",
       "    </tr>\n",
       "    <tr>\n",
       "      <th>2</th>\n",
       "      <td>2</td>\n",
       "      <td>0</td>\n",
       "      <td>0</td>\n",
       "      <td>0</td>\n",
       "      <td>0</td>\n",
       "      <td>0</td>\n",
       "      <td>0</td>\n",
       "      <td>0</td>\n",
       "      <td>1</td>\n",
       "      <td>0</td>\n",
       "      <td>0</td>\n",
       "      <td>0</td>\n",
       "      <td>0</td>\n",
       "      <td>0</td>\n",
       "      <td>0</td>\n",
       "      <td>0</td>\n",
       "      <td>0</td>\n",
       "      <td>0</td>\n",
       "      <td>0</td>\n",
       "    </tr>\n",
       "    <tr>\n",
       "      <th>3</th>\n",
       "      <td>3</td>\n",
       "      <td>0</td>\n",
       "      <td>0</td>\n",
       "      <td>0</td>\n",
       "      <td>0</td>\n",
       "      <td>0</td>\n",
       "      <td>0</td>\n",
       "      <td>0</td>\n",
       "      <td>1</td>\n",
       "      <td>0</td>\n",
       "      <td>0</td>\n",
       "      <td>0</td>\n",
       "      <td>0</td>\n",
       "      <td>0</td>\n",
       "      <td>1</td>\n",
       "      <td>0</td>\n",
       "      <td>0</td>\n",
       "      <td>0</td>\n",
       "      <td>0</td>\n",
       "    </tr>\n",
       "    <tr>\n",
       "      <th>4</th>\n",
       "      <td>4</td>\n",
       "      <td>0</td>\n",
       "      <td>0</td>\n",
       "      <td>0</td>\n",
       "      <td>0</td>\n",
       "      <td>0</td>\n",
       "      <td>0</td>\n",
       "      <td>0</td>\n",
       "      <td>1</td>\n",
       "      <td>0</td>\n",
       "      <td>0</td>\n",
       "      <td>0</td>\n",
       "      <td>0</td>\n",
       "      <td>0</td>\n",
       "      <td>0</td>\n",
       "      <td>0</td>\n",
       "      <td>0</td>\n",
       "      <td>0</td>\n",
       "      <td>0</td>\n",
       "    </tr>\n",
       "  </tbody>\n",
       "</table>\n",
       "</div>"
      ],
      "text/plain": [
       "   item_id  genre_0  genre_1  genre_2  genre_3  genre_4  genre_5  genre_6  \\\n",
       "0        0        0        1        0        1        1        0        0   \n",
       "1        1        0        0        0        0        0        0        0   \n",
       "2        2        0        0        0        0        0        0        0   \n",
       "3        3        0        0        0        0        0        0        0   \n",
       "4        4        0        0        0        0        0        0        0   \n",
       "\n",
       "   genre_7  genre_8  genre_9  genre_10  genre_11  genre_12  genre_13  \\\n",
       "0        0        1        0         0         0         0         1   \n",
       "1        1        0        0         0         0         0         0   \n",
       "2        1        0        0         0         0         0         0   \n",
       "3        1        0        0         0         0         0         1   \n",
       "4        1        0        0         0         0         0         0   \n",
       "\n",
       "   genre_14  genre_15  genre_16  genre_17  \n",
       "0         0         0         0         0  \n",
       "1         0         0         0         0  \n",
       "2         0         0         0         0  \n",
       "3         0         0         0         0  \n",
       "4         0         0         0         0  "
      ]
     },
     "execution_count": 3,
     "metadata": {},
     "output_type": "execute_result"
    }
   ],
   "source": [
    "item_features = pd.read_csv('data/item_features.csv')\n",
    "item_features.head()"
   ]
  },
  {
   "cell_type": "code",
   "execution_count": 4,
   "metadata": {
    "colab": {
     "base_uri": "https://localhost:8080/",
     "height": 206
    },
    "id": "j5EDoPjxYzlg",
    "outputId": "f8553fd4-e51c-4f76-821a-d9484af349f0"
   },
   "outputs": [
    {
     "data": {
      "text/html": [
       "<div>\n",
       "<style scoped>\n",
       "    .dataframe tbody tr th:only-of-type {\n",
       "        vertical-align: middle;\n",
       "    }\n",
       "\n",
       "    .dataframe tbody tr th {\n",
       "        vertical-align: top;\n",
       "    }\n",
       "\n",
       "    .dataframe thead th {\n",
       "        text-align: right;\n",
       "    }\n",
       "</style>\n",
       "<table border=\"1\" class=\"dataframe\">\n",
       "  <thead>\n",
       "    <tr style=\"text-align: right;\">\n",
       "      <th></th>\n",
       "      <th>user_id</th>\n",
       "      <th>gender</th>\n",
       "      <th>age</th>\n",
       "    </tr>\n",
       "  </thead>\n",
       "  <tbody>\n",
       "    <tr>\n",
       "      <th>0</th>\n",
       "      <td>4855</td>\n",
       "      <td>F</td>\n",
       "      <td>1</td>\n",
       "    </tr>\n",
       "    <tr>\n",
       "      <th>1</th>\n",
       "      <td>4065</td>\n",
       "      <td>M</td>\n",
       "      <td>56</td>\n",
       "    </tr>\n",
       "    <tr>\n",
       "      <th>2</th>\n",
       "      <td>3331</td>\n",
       "      <td>M</td>\n",
       "      <td>25</td>\n",
       "    </tr>\n",
       "    <tr>\n",
       "      <th>3</th>\n",
       "      <td>5373</td>\n",
       "      <td>M</td>\n",
       "      <td>45</td>\n",
       "    </tr>\n",
       "    <tr>\n",
       "      <th>4</th>\n",
       "      <td>2032</td>\n",
       "      <td>M</td>\n",
       "      <td>25</td>\n",
       "    </tr>\n",
       "  </tbody>\n",
       "</table>\n",
       "</div>"
      ],
      "text/plain": [
       "   user_id gender  age\n",
       "0     4855      F    1\n",
       "1     4065      M   56\n",
       "2     3331      M   25\n",
       "3     5373      M   45\n",
       "4     2032      M   25"
      ]
     },
     "execution_count": 4,
     "metadata": {},
     "output_type": "execute_result"
    }
   ],
   "source": [
    "user_features = pd.read_csv('data/user_features.csv')\n",
    "user_features.head()"
   ]
  },
  {
   "cell_type": "code",
   "execution_count": 5,
   "metadata": {
    "colab": {
     "base_uri": "https://localhost:8080/",
     "height": 206
    },
    "id": "MEA8cQ1JY4ta",
    "outputId": "25d83a2f-0d21-48fc-b86e-674e11d59add"
   },
   "outputs": [
    {
     "data": {
      "text/html": [
       "<div>\n",
       "<style scoped>\n",
       "    .dataframe tbody tr th:only-of-type {\n",
       "        vertical-align: middle;\n",
       "    }\n",
       "\n",
       "    .dataframe tbody tr th {\n",
       "        vertical-align: top;\n",
       "    }\n",
       "\n",
       "    .dataframe thead th {\n",
       "        text-align: right;\n",
       "    }\n",
       "</style>\n",
       "<table border=\"1\" class=\"dataframe\">\n",
       "  <thead>\n",
       "    <tr style=\"text-align: right;\">\n",
       "      <th></th>\n",
       "      <th>user_id</th>\n",
       "      <th>item_id</th>\n",
       "    </tr>\n",
       "  </thead>\n",
       "  <tbody>\n",
       "    <tr>\n",
       "      <th>0</th>\n",
       "      <td>0</td>\n",
       "      <td>0 1 2 3 4 5 6 7 8 9</td>\n",
       "    </tr>\n",
       "    <tr>\n",
       "      <th>1</th>\n",
       "      <td>1</td>\n",
       "      <td>0 1 2 3 4 5 6 7 8 9</td>\n",
       "    </tr>\n",
       "    <tr>\n",
       "      <th>2</th>\n",
       "      <td>2</td>\n",
       "      <td>0 1 2 3 4 5 6 7 8 9</td>\n",
       "    </tr>\n",
       "    <tr>\n",
       "      <th>3</th>\n",
       "      <td>3</td>\n",
       "      <td>0 1 2 3 4 5 6 7 8 9</td>\n",
       "    </tr>\n",
       "    <tr>\n",
       "      <th>4</th>\n",
       "      <td>4</td>\n",
       "      <td>0 1 2 3 4 5 6 7 8 9</td>\n",
       "    </tr>\n",
       "  </tbody>\n",
       "</table>\n",
       "</div>"
      ],
      "text/plain": [
       "   user_id              item_id\n",
       "0        0  0 1 2 3 4 5 6 7 8 9\n",
       "1        1  0 1 2 3 4 5 6 7 8 9\n",
       "2        2  0 1 2 3 4 5 6 7 8 9\n",
       "3        3  0 1 2 3 4 5 6 7 8 9\n",
       "4        4  0 1 2 3 4 5 6 7 8 9"
      ]
     },
     "execution_count": 5,
     "metadata": {},
     "output_type": "execute_result"
    }
   ],
   "source": [
    "submission_sample = pd.read_csv('data/submission_sample.csv')\n",
    "submission_sample.head()"
   ]
  },
  {
   "cell_type": "markdown",
   "metadata": {
    "id": "9pEaeb_gPiOc"
   },
   "source": [
    "## EDA"
   ]
  },
  {
   "cell_type": "code",
   "execution_count": 6,
   "metadata": {
    "colab": {
     "base_uri": "https://localhost:8080/",
     "height": 300
    },
    "id": "fPglF1H4UPCL",
    "outputId": "453f6584-856d-4812-f286-e30a7901de39"
   },
   "outputs": [
    {
     "data": {
      "text/html": [
       "<div>\n",
       "<style scoped>\n",
       "    .dataframe tbody tr th:only-of-type {\n",
       "        vertical-align: middle;\n",
       "    }\n",
       "\n",
       "    .dataframe tbody tr th {\n",
       "        vertical-align: top;\n",
       "    }\n",
       "\n",
       "    .dataframe thead th {\n",
       "        text-align: right;\n",
       "    }\n",
       "</style>\n",
       "<table border=\"1\" class=\"dataframe\">\n",
       "  <thead>\n",
       "    <tr style=\"text-align: right;\">\n",
       "      <th></th>\n",
       "      <th>rating</th>\n",
       "      <th>timestamp</th>\n",
       "    </tr>\n",
       "  </thead>\n",
       "  <tbody>\n",
       "    <tr>\n",
       "      <th>count</th>\n",
       "      <td>894149.000000</td>\n",
       "      <td>894149.000000</td>\n",
       "    </tr>\n",
       "    <tr>\n",
       "      <th>mean</th>\n",
       "      <td>3.580947</td>\n",
       "      <td>194.684738</td>\n",
       "    </tr>\n",
       "    <tr>\n",
       "      <th>std</th>\n",
       "      <td>1.116696</td>\n",
       "      <td>218.812300</td>\n",
       "    </tr>\n",
       "    <tr>\n",
       "      <th>min</th>\n",
       "      <td>1.000000</td>\n",
       "      <td>0.000000</td>\n",
       "    </tr>\n",
       "    <tr>\n",
       "      <th>25%</th>\n",
       "      <td>3.000000</td>\n",
       "      <td>45.000000</td>\n",
       "    </tr>\n",
       "    <tr>\n",
       "      <th>50%</th>\n",
       "      <td>4.000000</td>\n",
       "      <td>119.000000</td>\n",
       "    </tr>\n",
       "    <tr>\n",
       "      <th>75%</th>\n",
       "      <td>4.000000</td>\n",
       "      <td>267.000000</td>\n",
       "    </tr>\n",
       "    <tr>\n",
       "      <th>max</th>\n",
       "      <td>5.000000</td>\n",
       "      <td>2312.000000</td>\n",
       "    </tr>\n",
       "  </tbody>\n",
       "</table>\n",
       "</div>"
      ],
      "text/plain": [
       "              rating      timestamp\n",
       "count  894149.000000  894149.000000\n",
       "mean        3.580947     194.684738\n",
       "std         1.116696     218.812300\n",
       "min         1.000000       0.000000\n",
       "25%         3.000000      45.000000\n",
       "50%         4.000000     119.000000\n",
       "75%         4.000000     267.000000\n",
       "max         5.000000    2312.000000"
      ]
     },
     "execution_count": 6,
     "metadata": {},
     "output_type": "execute_result"
    }
   ],
   "source": [
    "events[['rating', 'timestamp']].describe()"
   ]
  },
  {
   "cell_type": "markdown",
   "metadata": {
    "id": "yHUGhlX3EbWs"
   },
   "source": [
    "**Активность пользователя**"
   ]
  },
  {
   "cell_type": "code",
   "execution_count": 7,
   "metadata": {
    "colab": {
     "base_uri": "https://localhost:8080/",
     "height": 542
    },
    "id": "dSTy0PldVTWe",
    "outputId": "6dd4953b-894a-4719-c510-fff97fa45215"
   },
   "outputs": [
    {
     "data": {
      "image/png": "[encoded data removed]",
      "text/plain": [
       "<Figure size 1400x600 with 1 Axes>"
      ]
     },
     "metadata": {},
     "output_type": "display_data"
    }
   ],
   "source": [
    "event_count_per_user = events.groupby('user_id').size().value_counts().sort_index()\n",
    "\n",
    "plt.figure(figsize=(14, 6))\n",
    "sns.barplot(x = event_count_per_user.index, y = event_count_per_user.values, color='indigo')\n",
    "\n",
    "#plt.xticks(rotation=45)  # Rotate xticks for better readability\n",
    "# Alternatively, to show only a subset of xticks\n",
    "plt.xticks(event_count_per_user.index[22::100])\n",
    "plt.show()"
   ]
  },
  {
   "cell_type": "code",
   "execution_count": 8,
   "metadata": {
    "colab": {
     "base_uri": "https://localhost:8080/",
     "height": 542
    },
    "id": "j0GmQwKscl6O",
    "outputId": "b1f63b98-72af-4503-ad1f-c8af65c28e07"
   },
   "outputs": [
    {
     "data": {
      "image/png": "[encoded data removed]",
      "text/plain": [
       "<Figure size 1400x600 with 1 Axes>"
      ]
     },
     "metadata": {},
     "output_type": "display_data"
    }
   ],
   "source": [
    "plt.figure(figsize=(14, 6))\n",
    "sns.barplot(x = event_count_per_user.index[:50], y = event_count_per_user.values[:50], color='indigo')\n",
    "plt.show()"
   ]
  },
  {
   "cell_type": "code",
   "execution_count": 9,
   "metadata": {
    "id": "vCeAnxJDjCl1"
   },
   "outputs": [],
   "source": [
    "#df_merged_user_features = events.join(user_features['gender'], on = 'user_id').join(user_features['age'], on = 'user_id')\n",
    "#df_merged = df_merged_user_features.join(item_features[['genre_0', 'genre_1', 'genre_2', 'genre_3', 'genre_4','genre_5', 'genre_6', 'genre_7', 'genre_8', 'genre_9', 'genre_10',\n",
    "#       'genre_11', 'genre_12', 'genre_13', 'genre_14', 'genre_15', 'genre_16', 'genre_17']], on = 'item_id')\n",
    "#df_merged.head()"
   ]
  },
  {
   "cell_type": "markdown",
   "metadata": {
    "id": "K0fvShtXEq7n"
   },
   "source": [
    "**Демография пользователя**"
   ]
  },
  {
   "cell_type": "code",
   "execution_count": 11,
   "metadata": {
    "colab": {
     "base_uri": "https://localhost:8080/",
     "height": 178
    },
    "id": "3VFJEo-_EyMW",
    "outputId": "ee3e43fe-b0ef-494d-aac5-9c27b8285edf"
   },
   "outputs": [
    {
     "data": {
      "text/plain": [
       "gender\n",
       "M    4331\n",
       "F    1709\n",
       "Name: count, dtype: int64"
      ]
     },
     "execution_count": 11,
     "metadata": {},
     "output_type": "execute_result"
    }
   ],
   "source": [
    "user_features.gender.value_counts()"
   ]
  },
  {
   "cell_type": "code",
   "execution_count": 12,
   "metadata": {
    "colab": {
     "base_uri": "https://localhost:8080/",
     "height": 410
    },
    "id": "fj2W0sGLGDcF",
    "outputId": "f46cacaf-aa13-49d8-b8f6-853ef7e627c1"
   },
   "outputs": [
    {
     "data": {
      "image/png": "[encoded data removed]",
      "text/plain": [
       "<Figure size 1200x400 with 1 Axes>"
      ]
     },
     "metadata": {},
     "output_type": "display_data"
    }
   ],
   "source": [
    "plt.figure(figsize = (12, 4))\n",
    "age_pop = user_features.age.value_counts()\n",
    "x = age_pop.index\n",
    "\n",
    "plt.bar(age_pop.index, age_pop, edgecolor='black', color = 'indigo')  # bins=5 для категорий от 1 до 5\n",
    "plt.title('Распределение пользователей по возрасту')\n",
    "plt.xlabel('Возраст')\n",
    "plt.ylabel('Количество пользователей')\n",
    "plt.xticks(x)\n",
    "plt.grid(alpha = 0.5)\n",
    "plt.show()"
   ]
  },
  {
   "cell_type": "markdown",
   "metadata": {
    "id": "TUBIlZcY2tb8"
   },
   "source": [
    "**Рейтинги фильмов**"
   ]
  },
  {
   "cell_type": "code",
   "execution_count": 13,
   "metadata": {
    "colab": {
     "base_uri": "https://localhost:8080/",
     "height": 410
    },
    "id": "2L_rrJgl6eEQ",
    "outputId": "ff90e81d-31f6-4fb2-d341-f69496322876"
   },
   "outputs": [
    {
     "data": {
      "image/png": "[encoded data removed]",
      "text/plain": [
       "<Figure size 1200x400 with 1 Axes>"
      ]
     },
     "metadata": {},
     "output_type": "display_data"
    }
   ],
   "source": [
    "plt.figure(figsize = (12, 4))\n",
    "\n",
    "plt.hist(events.rating, bins = 5, edgecolor='black', color = 'indigo')  # bins=5 для категорий от 1 до 5\n",
    "plt.title('Распределение рейтингов фильмов')\n",
    "plt.xlabel('Рейтинг')\n",
    "plt.ylabel('Частота')\n",
    "plt.xticks([1, 2, 3, 4, 5])  # Установка меток по оси X для значений рейтинга\n",
    "plt.grid(alpha = 0.5)  # Сетка для улучшения визуализации\n",
    "plt.show()"
   ]
  },
  {
   "cell_type": "markdown",
   "metadata": {
    "id": "78JzID1d2yBO"
   },
   "source": [
    "**Жанры фильмов**"
   ]
  },
  {
   "cell_type": "code",
   "execution_count": 14,
   "metadata": {
    "colab": {
     "base_uri": "https://localhost:8080/",
     "height": 564
    },
    "id": "564MxRVc9uzx",
    "outputId": "5556dd97-4a55-4172-f967-8a7813af8498"
   },
   "outputs": [
    {
     "data": {
      "image/png": "[encoded data removed]",
      "text/plain": [
       "<Figure size 1500x600 with 1 Axes>"
      ]
     },
     "metadata": {},
     "output_type": "display_data"
    }
   ],
   "source": [
    "genre_popularity = item_features.drop(['item_id'], axis = 1).sum(axis = 0)\n",
    "plt.figure(figsize = (15, 6))\n",
    "x = np.arange(1, genre_popularity.shape[0] + 1)\n",
    "\n",
    "plt.bar(x, genre_popularity, edgecolor='black', color = 'indigo')  # bins=5 для категорий от 1 до 5\n",
    "plt.title('Популярность жанров')\n",
    "plt.xlabel('Жанр')\n",
    "plt.ylabel('Частота')\n",
    "plt.xticks(x)  # Установка меток по оси X для значений рейтинга\n",
    "plt.grid(alpha = 0.5)  # Сетка для улучшения визуализации\n",
    "plt.show()"
   ]
  },
  {
   "cell_type": "code",
   "execution_count": 7,
   "metadata": {},
   "outputs": [],
   "source": [
    "# Объединим все датасеты в один\n",
    "events_with_user_features = events.merge(user_features, on='user_id')\n",
    "data_merged = events_with_user_features.merge(item_features, on='item_id')\n",
    "data_merged = data_merged.sort_values(['user_id', 'timestamp']).reset_index(drop=True)"
   ]
  },
  {
   "cell_type": "code",
   "execution_count": 8,
   "metadata": {
    "colab": {
     "base_uri": "https://localhost:8080/",
     "height": 487
    },
    "id": "ZJMiobvk9WyW",
    "outputId": "92a02598-d853-4b62-ffd4-e30037ba0d90"
   },
   "outputs": [
    {
     "data": {
      "image/png": "[encoded data removed]",
      "text/plain": [
       "<Figure size 1900x500 with 1 Axes>"
      ]
     },
     "metadata": {},
     "output_type": "display_data"
    }
   ],
   "source": [
    "genre_columns = ['genre_0', 'genre_1', 'genre_2', 'genre_3', 'genre_4','genre_5', 'genre_6', 'genre_7', 'genre_8', 'genre_9', 'genre_10',\n",
    "       'genre_11', 'genre_12', 'genre_13', 'genre_14', 'genre_15', 'genre_16', 'genre_17']\n",
    "\n",
    "popularity_male = data_merged[data_merged['gender'] == 'M'][genre_columns].sum()\n",
    "popularity_female = data_merged[data_merged['gender'] == 'F'][genre_columns].sum()\n",
    "\n",
    "x = np.arange(1, len(genre_columns) + 1)\n",
    "width = 0.35\n",
    "\n",
    "fig, ax = plt.subplots(figsize=(19, 5))\n",
    "\n",
    "ax.bar(x - width/2, popularity_male, width, label='Мужчины', color='indigo', edgecolor='black')\n",
    "ax.bar(x + width/2, popularity_female, width, label='Женщины', color='thistle', edgecolor='black')\n",
    "\n",
    "ax.set_title('Популярность жанров в разбивке по полу')\n",
    "ax.set_xlabel('Жанр')\n",
    "ax.set_ylabel('Количество фильмов')\n",
    "ax.set_xticks(x)\n",
    "ax.set_xticklabels(genre_columns)\n",
    "\n",
    "ax.legend()\n",
    "ax.grid(alpha=0.5)\n",
    "plt.show()"
   ]
  },
  {
   "cell_type": "code",
   "execution_count": 8,
   "metadata": {
    "colab": {
     "base_uri": "https://localhost:8080/",
     "height": 564
    },
    "id": "GW80wCgQDg89",
    "outputId": "e390bc5e-9880-4c5b-ff2f-63cb02164257"
   },
   "outputs": [
    {
     "data": {
      "image/png": "[encoded data removed]",
      "text/plain": [
       "<Figure size 1900x600 with 1 Axes>"
      ]
     },
     "metadata": {},
     "output_type": "display_data"
    }
   ],
   "source": [
    "rating_values = [1, 2, 3, 4, 5]\n",
    "\n",
    "popularity = pd.DataFrame(0, index = genre_columns, columns = rating_values)\n",
    "\n",
    "for rating in rating_values:\n",
    "    popularity[rating] = data_merged[data_merged['rating'] == rating][genre_columns].sum()\n",
    "\n",
    "\n",
    "x = np.arange(1, len(genre_columns) + 1)\n",
    "width = 0.15\n",
    "\n",
    "fig, ax = plt.subplots(figsize=(19, 6))\n",
    "\n",
    "for i, rating in enumerate(rating_values):\n",
    "    ax.bar(x + i * width, popularity[rating], width, label = f'Оценка {rating}', edgecolor = 'black')\n",
    "\n",
    "ax.set_title('Распределение оценок по жанрам')\n",
    "ax.set_xlabel('Жанр')\n",
    "ax.set_ylabel('Количество фильмов')\n",
    "ax.set_xticks(x + width * 2)\n",
    "ax.set_xticklabels(x)\n",
    "\n",
    "\n",
    "ax.legend()\n",
    "ax.grid(alpha = 0.5)\n",
    "plt.show()"
   ]
  },
  {
   "cell_type": "markdown",
   "metadata": {
    "id": "DJrusLWLUfP5"
   },
   "source": [
    "## Feature Engineering"
   ]
  },
  {
   "cell_type": "markdown",
   "metadata": {
    "id": "TIgRaVF7OKSf"
   },
   "source": [
    "Забрать последнее событие с каждого пользователя"
   ]
  },
  {
   "cell_type": "code",
   "execution_count": 9,
   "metadata": {
    "colab": {
     "base_uri": "https://localhost:8080/",
     "height": 206
    },
    "id": "b6CHgirhh_P-",
    "outputId": "8ea47a1e-e3e8-438c-cc54-5de95b8f99ee"
   },
   "outputs": [
    {
     "data": {
      "text/html": [
       "<div>\n",
       "<style scoped>\n",
       "    .dataframe tbody tr th:only-of-type {\n",
       "        vertical-align: middle;\n",
       "    }\n",
       "\n",
       "    .dataframe tbody tr th {\n",
       "        vertical-align: top;\n",
       "    }\n",
       "\n",
       "    .dataframe thead th {\n",
       "        text-align: right;\n",
       "    }\n",
       "</style>\n",
       "<table border=\"1\" class=\"dataframe\">\n",
       "  <thead>\n",
       "    <tr style=\"text-align: right;\">\n",
       "      <th></th>\n",
       "      <th>user_id</th>\n",
       "      <th>item_id</th>\n",
       "    </tr>\n",
       "  </thead>\n",
       "  <tbody>\n",
       "    <tr>\n",
       "      <th>0</th>\n",
       "      <td>0</td>\n",
       "      <td>3360</td>\n",
       "    </tr>\n",
       "    <tr>\n",
       "      <th>1</th>\n",
       "      <td>1</td>\n",
       "      <td>584</td>\n",
       "    </tr>\n",
       "    <tr>\n",
       "      <th>2</th>\n",
       "      <td>2</td>\n",
       "      <td>2625</td>\n",
       "    </tr>\n",
       "    <tr>\n",
       "      <th>3</th>\n",
       "      <td>3</td>\n",
       "      <td>3344</td>\n",
       "    </tr>\n",
       "    <tr>\n",
       "      <th>4</th>\n",
       "      <td>4</td>\n",
       "      <td>1868</td>\n",
       "    </tr>\n",
       "  </tbody>\n",
       "</table>\n",
       "</div>"
      ],
      "text/plain": [
       "   user_id  item_id\n",
       "0        0     3360\n",
       "1        1      584\n",
       "2        2     2625\n",
       "3        3     3344\n",
       "4        4     1868"
      ]
     },
     "execution_count": 9,
     "metadata": {},
     "output_type": "execute_result"
    }
   ],
   "source": [
    "test_items = pd.DataFrame(events.groupby('user_id').item_id.last()).reset_index()\n",
    "test_items.head()"
   ]
  },
  {
   "cell_type": "code",
   "execution_count": 10,
   "metadata": {},
   "outputs": [
    {
     "data": {
      "text/html": [
       "<div>\n",
       "<style scoped>\n",
       "    .dataframe tbody tr th:only-of-type {\n",
       "        vertical-align: middle;\n",
       "    }\n",
       "\n",
       "    .dataframe tbody tr th {\n",
       "        vertical-align: top;\n",
       "    }\n",
       "\n",
       "    .dataframe thead th {\n",
       "        text-align: right;\n",
       "    }\n",
       "</style>\n",
       "<table border=\"1\" class=\"dataframe\">\n",
       "  <thead>\n",
       "    <tr style=\"text-align: right;\">\n",
       "      <th></th>\n",
       "      <th>user_id</th>\n",
       "      <th>item_id</th>\n",
       "      <th>rating</th>\n",
       "      <th>timestamp</th>\n",
       "    </tr>\n",
       "  </thead>\n",
       "  <tbody>\n",
       "    <tr>\n",
       "      <th>0</th>\n",
       "      <td>0</td>\n",
       "      <td>1505</td>\n",
       "      <td>4</td>\n",
       "      <td>0</td>\n",
       "    </tr>\n",
       "    <tr>\n",
       "      <th>1</th>\n",
       "      <td>0</td>\n",
       "      <td>3669</td>\n",
       "      <td>3</td>\n",
       "      <td>1</td>\n",
       "    </tr>\n",
       "    <tr>\n",
       "      <th>2</th>\n",
       "      <td>0</td>\n",
       "      <td>584</td>\n",
       "      <td>4</td>\n",
       "      <td>2</td>\n",
       "    </tr>\n",
       "    <tr>\n",
       "      <th>3</th>\n",
       "      <td>0</td>\n",
       "      <td>3390</td>\n",
       "      <td>3</td>\n",
       "      <td>3</td>\n",
       "    </tr>\n",
       "    <tr>\n",
       "      <th>4</th>\n",
       "      <td>0</td>\n",
       "      <td>2885</td>\n",
       "      <td>4</td>\n",
       "      <td>4</td>\n",
       "    </tr>\n",
       "  </tbody>\n",
       "</table>\n",
       "</div>"
      ],
      "text/plain": [
       "   user_id  item_id  rating  timestamp\n",
       "0        0     1505       4          0\n",
       "1        0     3669       3          1\n",
       "2        0      584       4          2\n",
       "3        0     3390       3          3\n",
       "4        0     2885       4          4"
      ]
     },
     "execution_count": 10,
     "metadata": {},
     "output_type": "execute_result"
    }
   ],
   "source": [
    "tmp = pd.merge(events, test_items, on=['user_id','item_id'], how='left', indicator='merged_by')\n",
    "train_items = tmp[tmp.merged_by == 'left_only'].drop('merged_by', axis=1)\n",
    "train_items.head()"
   ]
  },
  {
   "cell_type": "code",
   "execution_count": 11,
   "metadata": {},
   "outputs": [],
   "source": [
    "# Тестовая выборка\n",
    "\n",
    "events_with_user_features = pd.merge(test_items, events, on=['user_id', 'item_id'])\n",
    "events_with_user_features = events_with_user_features.merge(user_features, on='user_id')\n",
    "test = events_with_user_features.merge(item_features, on='item_id')\n",
    "\n",
    "test = test.sort_values(['user_id', 'timestamp']).reset_index(drop=True)"
   ]
  },
  {
   "cell_type": "code",
   "execution_count": 12,
   "metadata": {},
   "outputs": [],
   "source": [
    "# Тренировочная выборка\n",
    "events_with_user_features = train_items.merge(user_features, on='user_id')\n",
    "train = events_with_user_features.merge(item_features, on='item_id')\n",
    "\n",
    "train = train.sort_values(['user_id', 'timestamp']).reset_index(drop=True)"
   ]
  },
  {
   "cell_type": "markdown",
   "metadata": {
    "id": "A5PCiHd3i4VP"
   },
   "source": [
    "Будем использовать этот датасет как финальный."
   ]
  },
  {
   "cell_type": "markdown",
   "metadata": {
    "id": "l2fHMsAujWuo"
   },
   "source": [
    "### User-based Features"
   ]
  },
  {
   "cell_type": "markdown",
   "metadata": {
    "id": "hlm-1TuVjcMt"
   },
   "source": [
    "Список фич по пользователю:\n",
    "\n",
    "\n",
    "1.   Пол юзера\n",
    "2.   Возраст юзера\n",
    "3.   Суммарное количество интеракций (просмотров фильмов)\n",
    "4.   Средний рейтинг оцениваемых фильмов\n",
    "5.   Набор жанров последних N просмотренных фильмов\n",
    "6.   Суммарный набор жанров всех просмотренных фильмов\n",
    "\n"
   ]
  },
  {
   "cell_type": "code",
   "execution_count": 13,
   "metadata": {},
   "outputs": [],
   "source": [
    "# Количество просмотров фильмов\n",
    "count_interactions = train_items.groupby('user_id').item_id.count()\n",
    "count_interactions.name = 'cnt_interact'"
   ]
  },
  {
   "cell_type": "code",
   "execution_count": 14,
   "metadata": {},
   "outputs": [],
   "source": [
    "# Средний рейтинг\n",
    "mean_user_rating = train.groupby('user_id').rating.mean()\n",
    "mean_user_rating.name = 'avg_user_rat'"
   ]
  },
  {
   "cell_type": "code",
   "execution_count": 15,
   "metadata": {},
   "outputs": [],
   "source": [
    "# Суммарные просмотры жанра i\n",
    "user_most_viewed_genres = train.groupby('user_id')[genre_columns].sum()"
   ]
  },
  {
   "cell_type": "code",
   "execution_count": 16,
   "metadata": {},
   "outputs": [],
   "source": [
    "# Для каждого пользователя найти три самых любимых жанра\n",
    "\n",
    "def get_top_genres(row, n=3):\n",
    "    return row.nlargest(n).index.tolist()\n",
    "\n",
    "top_genres = user_most_viewed_genres.apply(get_top_genres, axis=1)\n",
    "\n",
    "top_genres.name = 'top_genres'\n",
    "top_genres = top_genres.to_frame()\n",
    "\n",
    "top_genres = top_genres.assign(\n",
    "    **{f'top_genre{i+1}': top_genres['top_genres'].apply(lambda x: x[i]) for i in range(3)}\n",
    ")\n",
    "\n",
    "top_genres = top_genres.drop('top_genres', axis=1)"
   ]
  },
  {
   "cell_type": "code",
   "execution_count": 17,
   "metadata": {},
   "outputs": [],
   "source": [
    "# Окей, три самых любимых жанра - понятно, но что если учесть, что некоторые жанры в целом более популярны\n",
    "# Относительная любовь к жанру, по отношению к любви к этому жанру других пользователей\n",
    "\n",
    "most_viewed_genres = train[genre_columns].sum()\n",
    "rel_user_most_viewed_genres = user_most_viewed_genres/most_viewed_genres\n",
    "\n",
    "rel_top_genres = rel_user_most_viewed_genres.apply(get_top_genres, axis=1)\n",
    "\n",
    "rel_top_genres.name = 'rel_top_genres'\n",
    "rel_top_genres = rel_top_genres.to_frame()\n",
    "\n",
    "rel_top_genres = rel_top_genres.assign(\n",
    "    **{f'rel_top_genre{i+1}': rel_top_genres['rel_top_genres'].apply(lambda x: x[i]) for i in range(3)}\n",
    ")\n",
    "\n",
    "rel_top_genres = rel_top_genres.drop('rel_top_genres', axis=1)"
   ]
  },
  {
   "cell_type": "code",
   "execution_count": 19,
   "metadata": {},
   "outputs": [
    {
     "data": {
      "text/html": [
       "<div>\n",
       "<style scoped>\n",
       "    .dataframe tbody tr th:only-of-type {\n",
       "        vertical-align: middle;\n",
       "    }\n",
       "\n",
       "    .dataframe tbody tr th {\n",
       "        vertical-align: top;\n",
       "    }\n",
       "\n",
       "    .dataframe thead th {\n",
       "        text-align: right;\n",
       "    }\n",
       "</style>\n",
       "<table border=\"1\" class=\"dataframe\">\n",
       "  <thead>\n",
       "    <tr style=\"text-align: right;\">\n",
       "      <th></th>\n",
       "      <th>user_id</th>\n",
       "      <th>item_id</th>\n",
       "      <th>rating</th>\n",
       "      <th>timestamp</th>\n",
       "      <th>gender</th>\n",
       "      <th>age</th>\n",
       "      <th>genre_0</th>\n",
       "      <th>genre_1</th>\n",
       "      <th>genre_2</th>\n",
       "      <th>genre_3</th>\n",
       "      <th>...</th>\n",
       "      <th>genre_12</th>\n",
       "      <th>genre_13</th>\n",
       "      <th>genre_14</th>\n",
       "      <th>genre_15</th>\n",
       "      <th>genre_16</th>\n",
       "      <th>genre_17</th>\n",
       "      <th>mean_last_5</th>\n",
       "      <th>mean_last_10</th>\n",
       "      <th>mean_last_50</th>\n",
       "      <th>mean_last_100</th>\n",
       "    </tr>\n",
       "  </thead>\n",
       "  <tbody>\n",
       "    <tr>\n",
       "      <th>0</th>\n",
       "      <td>0</td>\n",
       "      <td>1505</td>\n",
       "      <td>4</td>\n",
       "      <td>0</td>\n",
       "      <td>M</td>\n",
       "      <td>35</td>\n",
       "      <td>1</td>\n",
       "      <td>0</td>\n",
       "      <td>0</td>\n",
       "      <td>0</td>\n",
       "      <td>...</td>\n",
       "      <td>0</td>\n",
       "      <td>0</td>\n",
       "      <td>0</td>\n",
       "      <td>0</td>\n",
       "      <td>0</td>\n",
       "      <td>0</td>\n",
       "      <td>3.580000</td>\n",
       "      <td>3.580000</td>\n",
       "      <td>3.580000</td>\n",
       "      <td>3.580000</td>\n",
       "    </tr>\n",
       "    <tr>\n",
       "      <th>1</th>\n",
       "      <td>0</td>\n",
       "      <td>3669</td>\n",
       "      <td>3</td>\n",
       "      <td>1</td>\n",
       "      <td>M</td>\n",
       "      <td>35</td>\n",
       "      <td>0</td>\n",
       "      <td>0</td>\n",
       "      <td>0</td>\n",
       "      <td>0</td>\n",
       "      <td>...</td>\n",
       "      <td>0</td>\n",
       "      <td>1</td>\n",
       "      <td>0</td>\n",
       "      <td>0</td>\n",
       "      <td>0</td>\n",
       "      <td>0</td>\n",
       "      <td>4.000000</td>\n",
       "      <td>4.000000</td>\n",
       "      <td>4.000000</td>\n",
       "      <td>4.000000</td>\n",
       "    </tr>\n",
       "    <tr>\n",
       "      <th>2</th>\n",
       "      <td>0</td>\n",
       "      <td>584</td>\n",
       "      <td>4</td>\n",
       "      <td>2</td>\n",
       "      <td>M</td>\n",
       "      <td>35</td>\n",
       "      <td>1</td>\n",
       "      <td>1</td>\n",
       "      <td>0</td>\n",
       "      <td>0</td>\n",
       "      <td>...</td>\n",
       "      <td>0</td>\n",
       "      <td>0</td>\n",
       "      <td>1</td>\n",
       "      <td>0</td>\n",
       "      <td>0</td>\n",
       "      <td>0</td>\n",
       "      <td>3.500000</td>\n",
       "      <td>3.500000</td>\n",
       "      <td>3.500000</td>\n",
       "      <td>3.500000</td>\n",
       "    </tr>\n",
       "    <tr>\n",
       "      <th>3</th>\n",
       "      <td>0</td>\n",
       "      <td>3390</td>\n",
       "      <td>3</td>\n",
       "      <td>3</td>\n",
       "      <td>M</td>\n",
       "      <td>35</td>\n",
       "      <td>0</td>\n",
       "      <td>0</td>\n",
       "      <td>0</td>\n",
       "      <td>0</td>\n",
       "      <td>...</td>\n",
       "      <td>0</td>\n",
       "      <td>0</td>\n",
       "      <td>0</td>\n",
       "      <td>0</td>\n",
       "      <td>0</td>\n",
       "      <td>0</td>\n",
       "      <td>3.666667</td>\n",
       "      <td>3.666667</td>\n",
       "      <td>3.666667</td>\n",
       "      <td>3.666667</td>\n",
       "    </tr>\n",
       "    <tr>\n",
       "      <th>4</th>\n",
       "      <td>0</td>\n",
       "      <td>2885</td>\n",
       "      <td>4</td>\n",
       "      <td>4</td>\n",
       "      <td>M</td>\n",
       "      <td>35</td>\n",
       "      <td>1</td>\n",
       "      <td>0</td>\n",
       "      <td>0</td>\n",
       "      <td>0</td>\n",
       "      <td>...</td>\n",
       "      <td>0</td>\n",
       "      <td>0</td>\n",
       "      <td>0</td>\n",
       "      <td>0</td>\n",
       "      <td>0</td>\n",
       "      <td>0</td>\n",
       "      <td>3.500000</td>\n",
       "      <td>3.500000</td>\n",
       "      <td>3.500000</td>\n",
       "      <td>3.500000</td>\n",
       "    </tr>\n",
       "  </tbody>\n",
       "</table>\n",
       "<p>5 rows × 28 columns</p>\n",
       "</div>"
      ],
      "text/plain": [
       "   user_id  item_id  rating  timestamp gender  age  genre_0  genre_1  genre_2  \\\n",
       "0        0     1505       4          0      M   35        1        0        0   \n",
       "1        0     3669       3          1      M   35        0        0        0   \n",
       "2        0      584       4          2      M   35        1        1        0   \n",
       "3        0     3390       3          3      M   35        0        0        0   \n",
       "4        0     2885       4          4      M   35        1        0        0   \n",
       "\n",
       "   genre_3  ...  genre_12  genre_13  genre_14  genre_15  genre_16  genre_17  \\\n",
       "0        0  ...         0         0         0         0         0         0   \n",
       "1        0  ...         0         1         0         0         0         0   \n",
       "2        0  ...         0         0         1         0         0         0   \n",
       "3        0  ...         0         0         0         0         0         0   \n",
       "4        0  ...         0         0         0         0         0         0   \n",
       "\n",
       "   mean_last_5  mean_last_10  mean_last_50  mean_last_100  \n",
       "0     3.580000      3.580000      3.580000       3.580000  \n",
       "1     4.000000      4.000000      4.000000       4.000000  \n",
       "2     3.500000      3.500000      3.500000       3.500000  \n",
       "3     3.666667      3.666667      3.666667       3.666667  \n",
       "4     3.500000      3.500000      3.500000       3.500000  \n",
       "\n",
       "[5 rows x 28 columns]"
      ]
     },
     "execution_count": 19,
     "metadata": {},
     "output_type": "execute_result"
    }
   ],
   "source": [
    "# Расчет средних значений рейтинга пользователя за последние 5, 10, 50, 100 просмотров\n",
    "\n",
    "def rolling_mean(df, window_size):\n",
    "    return df.groupby('user_id')['rating'].apply(\n",
    "        lambda x: x.rolling(window=window_size, min_periods=0, closed='left').mean()\n",
    "    )\n",
    "\n",
    "data_merged['mean_last_5'] = rolling_mean(data_merged, 5).reset_index(level=[0], drop=True).fillna(3.58)\n",
    "data_merged['mean_last_10'] = rolling_mean(data_merged, 10).reset_index(level=[0], drop=True).fillna(3.58)\n",
    "data_merged['mean_last_50'] = rolling_mean(data_merged, 50).reset_index(level=[0], drop=True).fillna(3.58)\n",
    "data_merged['mean_last_100'] = rolling_mean(data_merged, 100).reset_index(level=[0], drop=True).fillna(3.58)"
   ]
  },
  {
   "cell_type": "markdown",
   "metadata": {
    "id": "ClX1wDYika4o"
   },
   "source": [
    "### Item-Based Features"
   ]
  },
  {
   "cell_type": "markdown",
   "metadata": {
    "id": "RCA3ZIfdlS2R"
   },
   "source": [
    "Список фич по айтемам:\n",
    "\n",
    "\n",
    "1.   Средний рейтинг среди пользователей\n",
    "2.   Средний рейтинг фильмов того же жанра\n",
    "\n"
   ]
  },
  {
   "cell_type": "code",
   "execution_count": 18,
   "metadata": {
    "id": "bfFgTc_Ekahu"
   },
   "outputs": [],
   "source": [
    "# Средний рейтинг айтема\n",
    "item_mean_rating = train.groupby('item_id').rating.mean()\n",
    "item_mean_rating.name = 'avg_item_rat'\n"
   ]
  },
  {
   "cell_type": "code",
   "execution_count": 24,
   "metadata": {},
   "outputs": [],
   "source": [
    "# Средний рейтинг жанра\n",
    "mean_ratings_by_genre = [train[train[f'genre_{i}'] == 1].rating.mean() for i in range(18)]\n",
    "mean_ratings_by_genre = pd.Series(mean_ratings_by_genre, index=genre_columns)"
   ]
  },
  {
   "cell_type": "code",
   "execution_count": 25,
   "metadata": {},
   "outputs": [
    {
     "name": "stderr",
     "output_type": "stream",
     "text": [
      "100%|█████████████████████████████████| 894149/894149 [01:41<00:00, 8766.50it/s]\n"
     ]
    }
   ],
   "source": [
    "from tqdm import tqdm\n",
    "tqdm.pandas()\n",
    "\n",
    "# Усредненный средний рейтинг фильмов с такими же жанрами (хотя бы одним из)\n",
    "mean_rating_such_genres = train.progress_apply(lambda x: mean_ratings_by_genre[x[genre_columns] == 1].mean(), axis=1)"
   ]
  },
  {
   "cell_type": "markdown",
   "metadata": {},
   "source": [
    "## Генерация кандидатов"
   ]
  },
  {
   "cell_type": "markdown",
   "metadata": {},
   "source": [
    "### User2User"
   ]
  },
  {
   "cell_type": "code",
   "execution_count": null,
   "metadata": {},
   "outputs": [
    {
     "name": "stdout",
     "output_type": "stream",
     "text": [
      "Рекомендации для пользователя 0:\n",
      "item_id\n",
      "2732    187.880944\n",
      "1811    169.928440\n",
      "2256    162.421250\n",
      "2630    150.343709\n",
      "1543    148.468174\n",
      "331     143.477170\n",
      "3059    143.240185\n",
      "2862    142.703195\n",
      "472     139.936523\n",
      "790     136.497262\n",
      "dtype: float64\n"
     ]
    }
   ],
   "source": [
    "import pandas as pd\n",
    "from sklearn.metrics.pairwise import cosine_similarity\n",
    "from sklearn.preprocessing import StandardScaler\n",
    "\n",
    "data = train[['user_id', 'item_id', 'rating']]\n",
    "\n",
    "\n",
    "user_item_matrix = data.pivot(index='user_id', columns='item_id', values='rating').fillna(0)\n",
    "\n",
    "\n",
    "scaler = StandardScaler()\n",
    "user_item_matrix_scaled = scaler.fit_transform(user_item_matrix)\n",
    "\n",
    "\n",
    "user_similarity = cosine_similarity(user_item_matrix_scaled)\n",
    "user_similarity_df = pd.DataFrame(user_similarity, index=user_item_matrix.index, columns=user_item_matrix.index)\n",
    "\n",
    "\n",
    "def get_user_recommendations(target_user_id, user_item_matrix, user_similarity_df, N=5):\n",
    "    target_user_ratings = user_item_matrix.loc[target_user_id]\n",
    "    similar_users = user_similarity_df[target_user_id].sort_values(ascending=False).index[1:500]\n",
    "    \n",
    "    weighted_ratings = pd.Series(0, index=user_item_matrix.columns)\n",
    "    \n",
    "    for user in similar_users:\n",
    "        similarity_score = user_similarity_df.loc[target_user_id, user]\n",
    "        user_ratings = user_item_matrix.loc[user]\n",
    "        weighted_ratings += user_ratings * similarity_score\n",
    "    \n",
    "    weighted_ratings = weighted_ratings[target_user_ratings == 0]\n",
    "    \n",
    "    return weighted_ratings.sort_values(ascending=False).head(N)\n",
    "\n",
    "\n",
    "user_id = 0\n",
    "recommendations = get_user_recommendations(user_id, user_item_matrix, user_similarity_df, N=10)\n",
    "print(f\"Рекомендации для пользователя {user_id}:\\n{recommendations}\")\n"
   ]
  },
  {
   "cell_type": "markdown",
   "metadata": {
    "id": "-G9OAmBFjbtm"
   },
   "source": [
    "### ALS Explicit"
   ]
  },
  {
   "cell_type": "code",
   "execution_count": 29,
   "metadata": {
    "id": "sm_xEmDOjLZy"
   },
   "outputs": [
    {
     "data": {
      "application/vnd.jupyter.widget-view+json": {
       "model_id": "9bf504dc67764ed790ffeef0eaf7f998",
       "version_major": 2,
       "version_minor": 0
      },
      "text/plain": [
       "  0%|          | 0/400 [00:00<?, ?it/s]"
      ]
     },
     "metadata": {},
     "output_type": "display_data"
    }
   ],
   "source": [
    "import scipy.sparse as sparse\n",
    "from implicit.als import AlternatingLeastSquares\n",
    "\n",
    "data = train[['user_id', 'item_id', 'rating']]\n",
    "\n",
    "user_item_matrix = sparse.csr_matrix((data['rating'], (data['user_id'], data['item_id'])))\n",
    "\n",
    "model = AlternatingLeastSquares(\n",
    "    factors=400,\n",
    "    regularization=0.1,\n",
    "    iterations=400,\n",
    "    use_gpu=False\n",
    ")\n",
    "\n",
    "model.fit(user_item_matrix)\n"
   ]
  },
  {
   "cell_type": "markdown",
   "metadata": {},
   "source": [
    "### Самые популярные"
   ]
  },
  {
   "cell_type": "code",
   "execution_count": 97,
   "metadata": {},
   "outputs": [],
   "source": [
    "popular = train.item_id.value_counts().nlargest(10).index"
   ]
  },
  {
   "cell_type": "markdown",
   "metadata": {},
   "source": [
    "### Самые популярные по полу"
   ]
  },
  {
   "cell_type": "code",
   "execution_count": 32,
   "metadata": {},
   "outputs": [],
   "source": [
    "popular_gender = train.groupby(['gender', 'item_id']).user_id.count()\n",
    "popular_gender = popular_gender.groupby('gender').nlargest(10).reset_index(level=[0, 1], drop=True).index"
   ]
  },
  {
   "cell_type": "markdown",
   "metadata": {},
   "source": [
    "### Самые популярные по возрасту"
   ]
  },
  {
   "cell_type": "code",
   "execution_count": 33,
   "metadata": {},
   "outputs": [],
   "source": [
    "popular_age = train.groupby(['age', 'item_id']).user_id.count()\n",
    "popular_age = popular_age.groupby('age').nlargest(5).reset_index(level=[0, 1], drop=True).index"
   ]
  },
  {
   "cell_type": "markdown",
   "metadata": {},
   "source": [
    "### Наибольший рейтинг"
   ]
  },
  {
   "cell_type": "code",
   "execution_count": 34,
   "metadata": {},
   "outputs": [],
   "source": [
    "largest_rating = train.groupby('item_id').rating.mean().nlargest(20).index"
   ]
  },
  {
   "cell_type": "markdown",
   "metadata": {},
   "source": [
    "### Наибольшая популярность + рейтинг"
   ]
  },
  {
   "cell_type": "code",
   "execution_count": 35,
   "metadata": {},
   "outputs": [],
   "source": [
    "mean_rating = train.groupby('item_id').rating.mean()\n",
    "log_popularity = np.log(train.groupby('item_id').user_id.count())\n",
    "pop_rating = (mean_rating*log_popularity).nlargest(20).index"
   ]
  },
  {
   "cell_type": "code",
   "execution_count": 98,
   "metadata": {},
   "outputs": [],
   "source": [
    "candidates = popular"
   ]
  },
  {
   "cell_type": "code",
   "execution_count": 36,
   "metadata": {},
   "outputs": [],
   "source": [
    "candidates = list(set(popular) | set(popular_gender) | set(popular_age) | set(largest_rating) | set(pop_rating))\n",
    "# 30 + 20 + 35 + 20 + 20"
   ]
  },
  {
   "cell_type": "markdown",
   "metadata": {},
   "source": [
    "### Catboost обучение"
   ]
  },
  {
   "cell_type": "code",
   "execution_count": 21,
   "metadata": {},
   "outputs": [],
   "source": [
    "negative_samples = pd.DataFrame(np.vstack([\n",
    "np.random.choice(list(range(len(train['user_id'].unique()))), 2*len(train)),\n",
    "np.random.choice(list(range(len(train['item_id'].unique()))), 2*len(train))]\n",
    "), index=['user_id', 'item_id']).T\n",
    "\n",
    "negative_samples = train_items.merge(negative_samples, on=['user_id', 'item_id'], how='right', indicator='indicator')\n",
    "negative_samples = negative_samples[negative_samples.indicator == 'right_only'][['user_id', 'item_id']]"
   ]
  },
  {
   "cell_type": "code",
   "execution_count": 22,
   "metadata": {},
   "outputs": [],
   "source": [
    "positive_sample = train_items.assign(target=1)\n",
    "negative_sample = negative_samples.assign(target=0)"
   ]
  },
  {
   "cell_type": "code",
   "execution_count": 150,
   "metadata": {},
   "outputs": [],
   "source": [
    "data = pd.concat([positive_sample, negative_sample])\n",
    "data = data.drop(['rating', 'timestamp'], axis=1)"
   ]
  },
  {
   "cell_type": "code",
   "execution_count": 151,
   "metadata": {},
   "outputs": [],
   "source": [
    "def als_score(row):\n",
    "    return model.user_factors[row['user_id']].dot(model.item_factors[row['item_id']])"
   ]
  },
  {
   "cell_type": "code",
   "execution_count": null,
   "metadata": {},
   "outputs": [],
   "source": [
    "data['als_score'] = data.apply(als_score, axis=1)\n",
    "test_items['als_score'] = test_items.apply(als_score, axis=1)"
   ]
  },
  {
   "cell_type": "code",
   "execution_count": 66,
   "metadata": {},
   "outputs": [],
   "source": [
    "def merge_features(data):\n",
    "    data = data.merge(user_features, on='user_id')\n",
    "    data = data.merge(item_features, on='item_id')\n",
    "    data = data.merge(count_interactions, on='user_id')\n",
    "    data = data.merge(mean_user_rating, on='user_id')\n",
    "    data = data.merge(top_genres, on='user_id')\n",
    "    data = data.merge(rel_top_genres, on='user_id')\n",
    "    #data = pd.merge(\n",
    "    #    data,\n",
    "    #    data_merged[['user_id', 'item_id', 'mean_last_5', 'mean_last_10', 'mean_last_50', 'mean_last_100']],\n",
    "    #    on=['user_id', 'item_id'], how='left'\n",
    "    #)\n",
    "    data = data.merge(item_mean_rating, on='item_id')\n",
    "    \n",
    "    return data"
   ]
  },
  {
   "cell_type": "code",
   "execution_count": null,
   "metadata": {},
   "outputs": [],
   "source": [
    "data = merge_features(data)\n",
    "test_data = merge_features(test_items)"
   ]
  },
  {
   "cell_type": "code",
   "execution_count": null,
   "metadata": {},
   "outputs": [],
   "source": [
    "train_target = data['target']\n",
    "train_data = data.drop(['target', 'user_id', 'item_id'], axis=1)\n",
    "\n",
    "\n",
    "test_data = test_data.drop(['user_id', 'item_id'], axis=1)"
   ]
  },
  {
   "cell_type": "code",
   "execution_count": null,
   "metadata": {},
   "outputs": [],
   "source": [
    "catboost = CatBoostClassifier(iterations=500)\n",
    "cat_cols = ['gender', 'top_genre1', 'top_genre2', 'top_genre3', 'rel_top_genre1', 'rel_top_genre2', 'rel_top_genre3']\n",
    "catboost.fit(train_data, train_target, cat_features = cat_cols, verbose=25)\n",
    "pred = catboost.predict(test_data)\n",
    "test_target = np.ones_like(pred)"
   ]
  },
  {
   "cell_type": "markdown",
   "metadata": {},
   "source": [
    "### Инференс кандидатов"
   ]
  },
  {
   "cell_type": "code",
   "execution_count": 20,
   "metadata": {},
   "outputs": [],
   "source": [
    "users = pd.DataFrame({'user_id' : range(train_items['user_id'].max() + 1)})"
   ]
  },
  {
   "cell_type": "code",
   "execution_count": 21,
   "metadata": {},
   "outputs": [],
   "source": [
    "def f(x):\n",
    "    return model.recommend(x, user_item_matrix[x['user_id']], N=10)[0][0]\n",
    "\n",
    "als_items = users.apply(f, axis=1)\n",
    "\n",
    "als_items.name = 'als_items'\n",
    "als_items = als_items.to_frame()\n",
    "\n",
    "als_items = als_items.assign(\n",
    "    **{f'{i+1}': als_items['als_items'].apply(lambda x: x[i]) for i in range(10)}\n",
    ")\n",
    "\n",
    "als_items = als_items.drop('als_items', axis=1)\n",
    "als_items.columns = als_items.columns.astype(int)\n",
    "als_items = als_items.unstack().reset_index(level = [0, 1]).sort_values(['level_1', 'level_0'])\n",
    "als_items = als_items.drop('level_0', axis=1)\n",
    "als_items = als_items.rename(columns={'level_1': 'user_id', 0: 'item_id'})"
   ]
  },
  {
   "cell_type": "code",
   "execution_count": 133,
   "metadata": {},
   "outputs": [],
   "source": [
    "possible_items = candidates\n",
    "\n",
    "items = pd.DataFrame({'item_id' : possible_items})"
   ]
  },
  {
   "cell_type": "code",
   "execution_count": 144,
   "metadata": {},
   "outputs": [],
   "source": [
    "users_items = users.merge(items, how='cross')"
   ]
  },
  {
   "cell_type": "code",
   "execution_count": 145,
   "metadata": {},
   "outputs": [],
   "source": [
    "users_items = users_items.reset_index(drop=True).drop_duplicates()"
   ]
  },
  {
   "cell_type": "code",
   "execution_count": 143,
   "metadata": {},
   "outputs": [],
   "source": [
    "# Фильтруем дубликаты\n",
    "users_items = pd.concat([users_items, als_items]).reset_index(drop=True).drop_duplicates()"
   ]
  },
  {
   "cell_type": "code",
   "execution_count": 86,
   "metadata": {},
   "outputs": [],
   "source": [
    "users_items = users_items.groupby('user_id').head(10)"
   ]
  },
  {
   "cell_type": "code",
   "execution_count": null,
   "metadata": {},
   "outputs": [],
   "source": [
    "# Фильтруем items, которые пользователь уже смотрел\n",
    "tmp = pd.merge(users_items, test_items, on=['user_id','item_id'], how='left', indicator='merged_by')\n",
    "users_items = tmp[tmp.merged_by == 'left_only'][['user_id', 'item_id']]"
   ]
  },
  {
   "cell_type": "code",
   "execution_count": 101,
   "metadata": {},
   "outputs": [],
   "source": [
    "preds = catboost.predict_proba(users_items.drop(['user_id', 'item_id'], axis=1))"
   ]
  },
  {
   "cell_type": "code",
   "execution_count": 103,
   "metadata": {},
   "outputs": [],
   "source": [
    "users_items['prob'] = preds[:, 1]"
   ]
  },
  {
   "cell_type": "code",
   "execution_count": 41,
   "metadata": {},
   "outputs": [],
   "source": [
    "def top_10(x):\n",
    "    return x.nlargest(10).index.tolist()"
   ]
  },
  {
   "cell_type": "code",
   "execution_count": null,
   "metadata": {},
   "outputs": [],
   "source": [
    "users_items['prob'] = 1\n",
    "users_items_predict = users_items.set_index(['item_id']).groupby('user_id').prob.apply(top_10)\n",
    "\n",
    "users_items_predict = users_items_predict.apply(lambda x: ' '.join(list(map(str, x)))).to_frame().reset_index().rename({'prob': 'item_id'}, axis=1)"
   ]
  },
  {
   "cell_type": "code",
   "execution_count": 154,
   "metadata": {},
   "outputs": [
    {
     "data": {
      "text/plain": [
       "user_id\n",
       "0       [1811, 3696, 2256, 331, 1001, 2732, 3435, 1304...\n",
       "1       [1801, 563, 1699, 584, 1491, 3066, 2222, 2175,...\n",
       "2       [1956, 2342, 1831, 640, 2338, 2210, 2646, 463,...\n",
       "3       [2342, 3022, 3327, 3435, 1617, 2194, 2768, 300...\n",
       "4       [2297, 2210, 3022, 2646, 1583, 1490, 1039, 222...\n",
       "                              ...                        \n",
       "6035    [584, 2784, 1927, 1956, 2510, 3529, 463, 1855,...\n",
       "6036    [3692, 169, 36, 3529, 1560, 1039, 2862, 3013, ...\n",
       "6037    [3409, 36, 472, 1223, 618, 1315, 463, 1505, 30...\n",
       "6038    [1583, 640, 1808, 1615, 3489, 1762, 182, 2920,...\n",
       "6039    [3022, 1831, 640, 2342, 2067, 3053, 2194, 563,...\n",
       "Name: prob, Length: 6040, dtype: object"
      ]
     },
     "execution_count": 154,
     "metadata": {},
     "output_type": "execute_result"
    }
   ],
   "source": [
    "predict"
   ]
  },
  {
   "cell_type": "code",
   "execution_count": 24,
   "metadata": {},
   "outputs": [],
   "source": [
    "als_items_predict.to_csv('predict_als_7.csv', index=False)"
   ]
  },
  {
   "cell_type": "markdown",
   "metadata": {},
   "source": [
    "## Подсчет Recall@10"
   ]
  },
  {
   "cell_type": "code",
   "execution_count": 25,
   "metadata": {},
   "outputs": [],
   "source": [
    "def recall_at_10(recommendations, item_id):\n",
    "    recommended_items = set(recommendations)\n",
    "    \n",
    "    recall = int(item_id in recommended_items)\n",
    "    return recall"
   ]
  },
  {
   "cell_type": "code",
   "execution_count": 26,
   "metadata": {},
   "outputs": [],
   "source": [
    "def get_predict(file_path):\n",
    "    predict = pd.read_csv(file_path)\n",
    "    return predict"
   ]
  },
  {
   "cell_type": "code",
   "execution_count": 27,
   "metadata": {},
   "outputs": [
    {
     "name": "stderr",
     "output_type": "stream",
     "text": [
      "100%|██████████████████████████████████████| 6040/6040 [00:16<00:00, 371.68it/s]\n"
     ]
    },
    {
     "data": {
      "text/plain": [
       "0.08642384105960264"
      ]
     },
     "execution_count": 27,
     "metadata": {},
     "output_type": "execute_result"
    }
   ],
   "source": [
    "num_users = test_items.shape[0]\n",
    "recalls = []\n",
    "\n",
    "for user_id in tqdm(range(num_users)):\n",
    "    predict = get_predict('predict_als_7.csv')\n",
    "    recommendations = list(map(int, predict.loc[user_id, 'item_id'].split()))\n",
    "    recall = recall_at_10(recommendations, test_items.loc[user_id, 'item_id'])\n",
    "    recalls.append(recall)\n",
    "    \n",
    "# Усредненный Recall@10 по всем пользователям\n",
    "mean_recall = np.mean(recalls)\n",
    "mean_recall"
   ]
  },
  {
   "cell_type": "markdown",
   "metadata": {},
   "source": [
    "- Item2Item - 0.04718\n",
    "- ALS - 0.08961\n",
    "- CatBoost - 0.054786\n",
    "- Bert - 0.1703"
   ]
  },
  {
   "cell_type": "markdown",
   "metadata": {
    "id": "hMgy5wYYOSCn"
   },
   "source": [
    "Проработать холодный старт"
   ]
  },
  {
   "cell_type": "markdown",
   "metadata": {
    "id": "sBRc-ypaOXFF"
   },
   "source": [
    "Сделать умный таргет"
   ]
  },
  {
   "cell_type": "markdown",
   "metadata": {
    "id": "0-4kQ7NZhvMj"
   },
   "source": [
    "Models"
   ]
  },
  {
   "cell_type": "markdown",
   "metadata": {
    "id": "XraK2OA_hwb_"
   },
   "source": [
    "Формирование посылки"
   ]
  },
  {
   "cell_type": "code",
   "execution_count": null,
   "metadata": {
    "id": "fWrg6Y7vhuwy"
   },
   "outputs": [],
   "source": []
  },
  {
   "cell_type": "code",
   "execution_count": null,
   "metadata": {
    "id": "QsaG4pWjORhV"
   },
   "outputs": [],
   "source": []
  }
 ],
 "metadata": {
  "colab": {
   "provenance": []
  },
  "kernelspec": {
   "display_name": "kernel_3_11",
   "language": "python",
   "name": "kernel_3_11"
  },
  "language_info": {
   "codemirror_mode": {
    "name": "ipython",
    "version": 3
   },
   "file_extension": ".py",
   "mimetype": "text/x-python",
   "name": "python",
   "nbconvert_exporter": "python",
   "pygments_lexer": "ipython3",
   "version": "3.11.5"
  }
 },
 "nbformat": 4,
 "nbformat_minor": 4
}
